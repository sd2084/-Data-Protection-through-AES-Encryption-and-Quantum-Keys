{
 "cells": [
  {
   "cell_type": "code",
   "execution_count": 21,
   "id": "9b7e39d7",
   "metadata": {},
   "outputs": [],
   "source": [
    "import numpy as np\n",
    "from qiskit import *\n",
    "from qiskit.visualization import *"
   ]
  },
  {
   "cell_type": "code",
   "execution_count": 22,
   "id": "e9568c02",
   "metadata": {},
   "outputs": [
    {
     "name": "stdout",
     "output_type": "stream",
     "text": [
      "10100010\n"
     ]
    }
   ],
   "source": [
    "# PassPhrase=[]\n",
    "n_qubits = 8\n",
    "indx=0\n",
    "PassPhrase=\"\"\n",
    "j=\"\"\n",
    "alice_random_string = np.random.randint(2, size = n_qubits)\n",
    "for i in alice_random_string:\n",
    "    j=str(i)\n",
    "    PassPhrase = PassPhrase + j\n",
    "print(PassPhrase)"
   ]
  },
  {
   "cell_type": "code",
   "execution_count": 23,
   "metadata": {},
   "outputs": [
    {
     "name": "stdout",
     "output_type": "stream",
     "text": [
      "Enter in the 16 character passphrase to encrypt your text file \n",
      "Inside your plaintext message is:\n",
      "name\tpokedex id\theight\tweight\ttype\tsecundary type\thp\tattack\tdefense\tsp atk\tsp def\tspeed\n",
      "bulbasaur\t1\t7\t69\tgrass\tpoison\t45\t49\t49\t65\t65\t45\n",
      "ivysaur\t2\t10\t130\tgrass\tpoison\t60\t62\t63\t80\t80\t60\n",
      "\n",
      "\n",
      "\n",
      "The output hex value for the entire message is:\n",
      "2120b5f06285aaa55f1ea5b3a392c373e5d522c80319409c14f431ae044678847a7e9f8cd6da482e61cb896645414da730b2c6086c50e9ac07fb0c2bca3d959ebe1e496937baa8419e826766fa7014bb6424ff5ff541432fb135e4262ec85aa675cb973e331c8ebf00799d99448e5fe6c4b5692aa003f8480a2a9cb2923d3bffffd8f0a8c4fbf63fe23b5e5d96ed0e56cf27ea25ca6f6aa772d2f72ad40306c0c0fa6e6b62cdbe4f0a5eaf8f2e372b3b32abec96e23e52e3de6ef562c10a8f91\n",
      "\n"
     ]
    }
   ],
   "source": [
    "from AESencryptfunc import * #import AESencryptfunc module to use functions created for this program\n",
    "import math #import math module to use function such as ceiling\n",
    "\n",
    "while(len(PassPhrase)!=16):\n",
    "    print(\"Enter in the 16 character passphrase to encrypt your text file \")\n",
    "    # PassPhrase=input()#takes in user input of char, eg. \"Iwanttolearnkung\"\n",
    "    if(len(PassPhrase)<16):#check if less than 16 characters, if so add one space character until 16 chars\n",
    "        while(len(PassPhrase)!=16):\n",
    "            PassPhrase=PassPhrase+\"\\00\"\n",
    "    if(len(PassPhrase)>16):#check if bigger than 16 characters, if so then truncate it to be only 16 chars from [0:16]\n",
    "        print(\"Your passphrase was larger than 16, truncating passphrase.\")\n",
    "        PassPhrase=PassPhrase[0:16]\n",
    "\n",
    "#open plaintext.txt file to read and encrypt\n",
    "sys.argv[1]=\"plaintext1.txt\"\n",
    "file=open(sys.argv[1], \"r\")\n",
    "message=(file.read())\n",
    "print(\"Inside your plaintext message is:\\n%s\\n\" % message)\n",
    "file.close()\n",
    "sys.argv[2]=\"ciphertext.txt\"\n",
    "message=BitVector(textstring=message)\n",
    "message=message.get_bitvector_in_hex()\n",
    "replacementptr=0\n",
    "while(replacementptr<len(message)):\n",
    "    if(message[replacementptr:replacementptr+2]=='0a'):\n",
    "        message=message[0:replacementptr]+'0d'+message[replacementptr:len(message)]\n",
    "        replacementptr=replacementptr+4\n",
    "    else:\n",
    "        replacementptr=replacementptr+2\n",
    "\n",
    "message=BitVector(hexstring=message)\n",
    "message=message.get_bitvector_in_ascii()\n",
    "#set up some parameters\n",
    "start=0#set starting pointer for the part to encrypt of the plaintext\n",
    "end=0#set ending pointer for the part to encrypt of the plaintex\n",
    "length=len(message)#check the entire size of the message\n",
    "loopmsg=0.00#create a decimal value\n",
    "loopmsg=math.ceil(length/16)+1#use formula to figure how long the message is and how many 16 character segmentss must be encrypted\n",
    "outputhex=\"\"#setup output message in hex\n",
    "\n",
    "#need to setup roundkeys here\n",
    "PassPhrase=BitVector(textstring=PassPhrase)\n",
    "roundkey1=findroundkey(PassPhrase.get_bitvector_in_hex(),1)\n",
    "roundkey2=findroundkey(roundkey1,2)\n",
    "roundkey3=findroundkey(roundkey2,3)\n",
    "roundkey4=findroundkey(roundkey3,4)\n",
    "roundkey5=findroundkey(roundkey4,5)\n",
    "roundkey6=findroundkey(roundkey5,6)\n",
    "roundkey7=findroundkey(roundkey6,7)\n",
    "roundkey8=findroundkey(roundkey7,8)\n",
    "roundkey9=findroundkey(roundkey8,9)\n",
    "roundkey10=findroundkey(roundkey9,10)\n",
    "roundkeys=[roundkey1,roundkey2,roundkey3,roundkey4,roundkey5,roundkey6,roundkey7,roundkey8,roundkey9,roundkey10]\n",
    "\n",
    "#set up FILEOUT to write\n",
    "FILEOUT = open(sys.argv[2], 'w')\n",
    "\n",
    "# set up the segement message loop parameters\n",
    "for y in range(1, loopmsg): # loop to encrypt all segments of the message\n",
    "    if(end+16<length): #if the end pointer is less than the size of the message, then set the segment to be 16 characters\n",
    "        plaintextseg = message[start:end + 16]\n",
    "    else: #or else if the end pointer is equal to or greator than the size of the message\n",
    "        plaintextseg = message[start:length]\n",
    "        for z in range(0,((end+16)-length),1): #run a while loop to pad the message segement to become 16 characters, if it is 16 already the loop will not run\n",
    "            plaintextseg = plaintextseg+\"\\00\"\n",
    "\n",
    "    #add round key zero/ find round key one\n",
    "    bv1 = BitVector(textstring=plaintextseg)\n",
    "    bv2 = PassPhrase\n",
    "    resultbv=bv1^bv2\n",
    "    myhexstring = resultbv.get_bitvector_in_hex()\n",
    "\n",
    "    for x in range(1, 10):  # loop through 9 rounds\n",
    "        # sub byte\n",
    "        myhexstring = resultbv.get_bitvector_in_hex()\n",
    "        temp1=subbyte(myhexstring)\n",
    "\n",
    "        # shift rows\n",
    "        temp2=shiftrow(temp1)\n",
    "\n",
    "        # mix column\n",
    "        bv3 = BitVector(hexstring=temp2)\n",
    "        newbvashex=mixcolumn(bv3)\n",
    "        newbv=BitVector(hexstring=newbvashex)\n",
    "\n",
    "        #add roundkey for current round\n",
    "        bv1 = BitVector(bitlist=newbv)\n",
    "        bv2 = BitVector(hexstring=roundkeys[x-1])\n",
    "        resultbv = bv1 ^ bv2\n",
    "        myhexresult = resultbv.get_bitvector_in_hex()\n",
    "\n",
    "    #start round 10\n",
    "    # sub byte round 10\n",
    "    myhexstring = resultbv.get_bitvector_in_hex()\n",
    "    temp1=subbyte(myhexstring)\n",
    "\n",
    "    # shift rows round 10\n",
    "    temp2=shiftrow(temp1)\n",
    "\n",
    "    # add round key round 10\n",
    "    newbv = BitVector(hexstring=temp2)\n",
    "    bv1 = BitVector(bitlist=newbv)\n",
    "    bv2 = BitVector(hexstring=roundkeys[9])\n",
    "    resultbv = bv1 ^ bv2\n",
    "    myhexstring = resultbv.get_bitvector_in_hex()\n",
    "\n",
    "    #set encrypted hex segement of message to output string\n",
    "    outputhextemp = resultbv.get_hex_string_from_bitvector()\n",
    "    FILEOUT.write(outputhextemp)\n",
    "    start = start + 16 #increment start pointer\n",
    "    end = end + 16 #increment end pointer\n",
    "\n",
    "# encrypted output hex string to specified cipherhex file\n",
    "FILEOUT.close()\n",
    "\n",
    "file2=open(sys.argv[2], \"r\")\n",
    "print(\"The output hex value for the entire message is:\\n%s\\n\" % file2.read())\n",
    "file2.close()"
   ]
  },
  {
   "cell_type": "code",
   "execution_count": 24,
   "id": "990ac812",
   "metadata": {},
   "outputs": [
    {
     "name": "stdout",
     "output_type": "stream",
     "text": [
      "[1 0 1 0 0 0 1 0]\n",
      "[1 0 0 0 1 1 0 1]\n",
      "[1 0 1 1 1 1 0 1]\n"
     ]
    }
   ],
   "source": [
    "alice_basis = np.random.randint(2, size = n_qubits)\n",
    "bob_basis = np.random.randint(2, size = n_qubits)\n",
    "\n",
    "print(alice_random_string)\n",
    "print(alice_basis)\n",
    "print(bob_basis)"
   ]
  },
  {
   "cell_type": "code",
   "execution_count": 25,
   "id": "49d39d22",
   "metadata": {},
   "outputs": [],
   "source": [
    "bb84_circuit = QuantumCircuit(n_qubits)\n",
    "\n",
    "# Alice\n",
    "for index in range(len(alice_random_string)):\n",
    "    if alice_random_string[index] == 1:\n",
    "        bb84_circuit.x(index)\n",
    "    if alice_basis[index] == 1:\n",
    "        bb84_circuit.h(index)\n",
    "bb84_circuit.barrier()\n",
    "\n",
    "# Bob\n",
    "for index in range(len(bob_basis)):\n",
    "    if bob_basis[index] == 1:\n",
    "        bb84_circuit.h(index)\n",
    "\n",
    "bb84_circuit.measure_all()"
   ]
  },
  {
   "cell_type": "code",
   "execution_count": 26,
   "id": "15a6ee5c",
   "metadata": {},
   "outputs": [
    {
     "data": {
      "image/png": "[encoded data removed]",
      "text/plain": [
       "<Figure size 1249.28x785.944 with 1 Axes>"
      ]
     },
     "execution_count": 26,
     "metadata": {},
     "output_type": "execute_result"
    }
   ],
   "source": [
    "bb84_circuit.draw('mpl')"
   ]
  },
  {
   "cell_type": "code",
   "execution_count": 27,
   "id": "092126ad",
   "metadata": {},
   "outputs": [
    {
     "name": "stdout",
     "output_type": "stream",
     "text": [
      "{'10000010': 3, '10110010': 4, '10010010': 3}\n"
     ]
    },
    {
     "data": {
      "image/png": "[encoded data removed]",
      "text/plain": [
       "<Figure size 700x500 with 1 Axes>"
      ]
     },
     "execution_count": 27,
     "metadata": {},
     "output_type": "execute_result"
    }
   ],
   "source": [
    "backend = Aer.get_backend('qasm_simulator')\n",
    "execution = execute(experiments = bb84_circuit.reverse_bits(), backend = backend, shots = 10)    # Shots = 1\n",
    "results = execution.result()\n",
    "counts = results.get_counts()\n",
    "\n",
    "# The counts here are the final qubit values that Bob gets after polarizing the photons through his choice of random basis! \n",
    "print(counts)\n",
    "plot_histogram(counts)\n",
    "\n",
    "\n",
    "# Quantum Communication through quantum channel ends here!"
   ]
  },
  {
   "cell_type": "code",
   "execution_count": 28,
   "id": "4f6426a3",
   "metadata": {},
   "outputs": [
    {
     "name": "stdout",
     "output_type": "stream",
     "text": [
      "10--0010\n",
      "10--0010\n",
      "10--0010\n"
     ]
    }
   ],
   "source": [
    "# Classical communication begins here!\n",
    "# Creating the KEY!!!\n",
    "\n",
    "# We need to compare the basis of Alice and Bob (alice_basis and bob_basis)\n",
    "\n",
    "keys = []\n",
    "for bob_key in counts:\n",
    "    possible_key = ''\n",
    "    for index in range(n_qubits):\n",
    "        if alice_basis[index] == bob_basis[index]:\n",
    "            possible_key = possible_key + str(bob_key[index])\n",
    "        else:\n",
    "            possible_key = possible_key + '-'\n",
    "    print(possible_key)\n",
    "\n",
    "    keys.append(possible_key)"
   ]
  },
  {
   "cell_type": "code",
   "execution_count": 29,
   "id": "cedf6f0f",
   "metadata": {},
   "outputs": [],
   "source": [
    "info=keys[0]\n",
    "# info=\"-1--1100\"\n",
    "arr_info=[]\n",
    "for i in info:\n",
    "    arr_info.append(i)\n",
    "ans=\"\"\n",
    "arr=[]\n",
    "input_key=input(\"Enter the key\")\n",
    "for i in input_key:\n",
    "    arr.append(i)\n",
    "\n",
    "for i in range(0,len(info)):\n",
    "    if arr_info[i] ==\"-\":\n",
    "        ans=ans+arr[i]\n",
    "    else: \n",
    "        if arr_info[i] == arr[i]:\n",
    "            ans = ans+arr[i]\n",
    "        else:\n",
    "            ans = ans+\"2\"\n"
   ]
  },
  {
   "cell_type": "code",
   "execution_count": 30,
   "id": "adb0a457",
   "metadata": {},
   "outputs": [
    {
     "name": "stdout",
     "output_type": "stream",
     "text": [
      "Enter in the 16 character passphrase to decrypt your text file ciphertext.txt\n",
      "Inside your ciphertext message is:\n",
      "2120b5f06285aaa55f1ea5b3a392c373e5d522c80319409c14f431ae044678847a7e9f8cd6da482e61cb896645414da730b2c6086c50e9ac07fb0c2bca3d959ebe1e496937baa8419e826766fa7014bb6424ff5ff541432fb135e4262ec85aa675cb973e331c8ebf00799d99448e5fe6c4b5692aa003f8480a2a9cb2923d3bffffd8f0a8c4fbf63fe23b5e5d96ed0e56cf27ea25ca6f6aa772d2f72ad40306c0c0fa6e6b62cdbe4f0a5eaf8f2e372b3b32abec96e23e52e3de6ef562c10a8f91\n",
      "\n",
      "The decrypted message for the entire ciphertext is:\n",
      "name\tpokedex id\theight\tweight\ttype\tsecundary type\thp\tattack\tdefense\tsp atk\tsp def\tspeed\n",
      "bulbasaur\t1\t7\t69\tgrass\tpoison\t45\t49\t49\t65\t65\t45\n",
      "ivysaur\t2\t10\t130\tgrass\tpoison\t60\t62\t63\t80\t80\t60\n",
      "\n",
      "\n",
      "\n"
     ]
    }
   ],
   "source": [
    "from AESdecryptfunc import * \n",
    "import math \n",
    "import io\n",
    "\n",
    "sys.argv[1]=\"ciphertext.txt\"\n",
    "sys.argv[2]=\"plaintext2.txt\"\n",
    "\n",
    "while(len(PassPhrase)!=16):\n",
    "    print(\"Enter in the 16 character passphrase to decrypt your text file %s\" %sys.argv[1])\n",
    "    PassPhrase=ans\n",
    "    if(len(PassPhrase)<16):\n",
    "        while(len(PassPhrase)!=16):\n",
    "            PassPhrase=PassPhrase+\"\\00\"\n",
    "    if(len(PassPhrase)>16):#check if bigger than 16 characters, if so then truncate it to be only 16 chars from [0:16]\n",
    "        print(\"Your passphrase was larger than 16, truncating passphrase.\")\n",
    "        PassPhrase=PassPhrase[0:16]\n",
    "\n",
    "#open ciphertext.txt file to read and decrypt\n",
    "file=open(sys.argv[1], \"r\")\n",
    "message=(file.read())\n",
    "print(\"Inside your ciphertext message is:\\n%s\\n\" % message)\n",
    "file.close()\n",
    "\n",
    "#set up some parameters\n",
    "start=0#set starting pointer for the part to decrypt of the ciphertext\n",
    "end=32#set ending pointer for the part to decrypt of the plaintex\n",
    "length=len(message)#check the entire size of the message\n",
    "loopmsg=0.00#create a decimal value\n",
    "loopmsg=math.ceil(length/32)+1#use formula to figure how long the message is and how many 16 character segments must be decrypted\n",
    "outputhex=\"\"#setup output message segment in hex\n",
    "asciioutput=\"\"#setup compilation of output message in ascii\n",
    "\n",
    "#need to setup roundkeys here\n",
    "PassPhrase=BitVector(textstring=PassPhrase)\n",
    "roundkey1=findroundkey(PassPhrase.get_bitvector_in_hex(),1)\n",
    "roundkey2=findroundkey(roundkey1,2)\n",
    "roundkey3=findroundkey(roundkey2,3)\n",
    "roundkey4=findroundkey(roundkey3,4)\n",
    "roundkey5=findroundkey(roundkey4,5)\n",
    "roundkey6=findroundkey(roundkey5,6)\n",
    "roundkey7=findroundkey(roundkey6,7)\n",
    "roundkey8=findroundkey(roundkey7,8)\n",
    "roundkey9=findroundkey(roundkey8,9)\n",
    "roundkey10=findroundkey(roundkey9,10)\n",
    "roundkeys=[roundkey1,roundkey2,roundkey3,roundkey4,roundkey5,roundkey6,roundkey7,roundkey8,roundkey9,roundkey10]\n",
    "\n",
    "FILEOUT = io.open(sys.argv[2], 'w', encoding='utf-8')\n",
    "\n",
    "# set up the segement message loop parameters\n",
    "for y in range(1, loopmsg): # loop to encrypt all segments of the message\n",
    "    plaintextseg = message[start:end]\n",
    "\n",
    "    # add round key\n",
    "    bv1 = BitVector(hexstring=plaintextseg)\n",
    "    bv2 = BitVector(hexstring=roundkeys[9])\n",
    "    resultbv = bv1 ^ bv2\n",
    "    myhexstring = resultbv.get_bitvector_in_hex()\n",
    "\n",
    "    #inverse shift row\n",
    "    myhexstring=invshiftrow(myhexstring)\n",
    "\n",
    "    #inverse subbyte\n",
    "    myhexstring=invsubbyte(myhexstring)\n",
    "\n",
    "    for x in range(8, -1, -1):\n",
    "        # add roundkey for current round\n",
    "        bv1 = BitVector(hexstring=myhexstring)\n",
    "        bv2 = BitVector(hexstring=roundkeys[x])\n",
    "        resultbv = bv1 ^ bv2\n",
    "        myhexstring = resultbv.get_bitvector_in_hex()\n",
    "\n",
    "        # mix column\n",
    "        bv3 = BitVector(hexstring=myhexstring)\n",
    "        myhexstring=invmixcolumn(bv3)\n",
    "\n",
    "        # shift rows\n",
    "        myhexstring = invshiftrow(myhexstring)\n",
    "\n",
    "        # sub byte\n",
    "        myhexstring = invsubbyte(myhexstring)\n",
    "\n",
    "    #add initial round key\n",
    "    bv1 = BitVector(hexstring=myhexstring)\n",
    "    bv2 = PassPhrase\n",
    "    resultbv = bv1 ^ bv2\n",
    "    myhexstring = resultbv.get_bitvector_in_hex()\n",
    "\n",
    "    start = start + 32 #increment start pointer\n",
    "    end = end + 32 #increment end pointer\n",
    "\n",
    "    replacementptr = 0\n",
    "    while (replacementptr < len(myhexstring)):\n",
    "        if (myhexstring[replacementptr:replacementptr + 2] == '0d'):\n",
    "            myhexstring = myhexstring[0:replacementptr] + myhexstring[replacementptr+2:len(myhexstring)]\n",
    "        else:\n",
    "            replacementptr = replacementptr + 2\n",
    "\n",
    "    outputhex = BitVector(hexstring=myhexstring)\n",
    "    asciioutput = outputhex.get_bitvector_in_ascii()\n",
    "    asciioutput=asciioutput.replace('\\x00','')\n",
    "    FILEOUT.write(asciioutput)\n",
    "\n",
    "FILEOUT.close()\n",
    "\n",
    "file2=io.open(sys.argv[2], \"r\", encoding='utf-8')\n",
    "print(\"The decrypted message for the entire ciphertext is:\\n%s\\n\" % file2.read())\n",
    "file2.close()"
   ]
  }
 ],
 "metadata": {
  "kernelspec": {
   "display_name": "Python 3 (ipykernel)",
   "language": "python",
   "name": "python3"
  },
  "language_info": {
   "codemirror_mode": {
    "name": "ipython",
    "version": 3
   },
   "file_extension": ".py",
   "mimetype": "text/x-python",
   "name": "python",
   "nbconvert_exporter": "python",
   "pygments_lexer": "ipython3",
   "version": "3.9.13"
  }
 },
 "nbformat": 4,
 "nbformat_minor": 5
}
